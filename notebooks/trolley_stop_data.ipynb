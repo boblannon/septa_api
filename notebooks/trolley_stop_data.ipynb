{
 "cells": [
  {
   "cell_type": "code",
   "execution_count": 0,
   "metadata": {
    "collapsed": false
   },
   "outputs": [
    {
     "name": "stdout",
     "output_type": "stream",
     "text": [
      "Populating the interactive namespace from numpy and matplotlib\n"
     ]
    }
   ],
   "source": [
    "%pylab inline"
   ]
  },
  {
   "cell_type": "markdown",
   "metadata": {},
   "source": [
    "# Imports"
   ]
  },
  {
   "cell_type": "code",
   "execution_count": 0,
   "metadata": {
    "collapsed": true
   },
   "outputs": [],
   "source": [
    "import json"
   ]
  },
  {
   "cell_type": "code",
   "execution_count": 0,
   "metadata": {
    "collapsed": true
   },
   "outputs": [],
   "source": [
    "import requests\n",
    "import pandas as pd\n",
    "import numpy as np"
   ]
  },
  {
   "cell_type": "markdown",
   "metadata": {},
   "source": [
    "# Data"
   ]
  },
  {
   "cell_type": "markdown",
   "metadata": {},
   "source": [
    "Resources at http://www3.septa.org/hackathon/"
   ]
  },
  {
   "cell_type": "code",
   "execution_count": 0,
   "metadata": {
    "collapsed": true
   },
   "outputs": [],
   "source": [
    "endpoint = 'http://www3.septa.org/hackathon/Stops/{}'"
   ]
  },
  {
   "cell_type": "code",
   "execution_count": 0,
   "metadata": {
    "collapsed": true
   },
   "outputs": [],
   "source": [
    "trolleys = [\n",
    "    10,\n",
    "    11,\n",
    "    13,\n",
    "    15,\n",
    "    34,\n",
    "    36,\n",
    "    101,\n",
    "    102\n",
    "]"
   ]
  },
  {
   "cell_type": "code",
   "execution_count": 0,
   "metadata": {
    "collapsed": true
   },
   "outputs": [],
   "source": [
    "def get_all_stops(trolleys):\n",
    "    for trolley in trolleys:\n",
    "        resp = requests.get(endpoint.format(trolley))\n",
    "        for stop in resp.json():\n",
    "            stop['trolley'] = trolley\n",
    "            yield stop"
   ]
  },
  {
   "cell_type": "code",
   "execution_count": 0,
   "metadata": {
    "collapsed": true
   },
   "outputs": [],
   "source": [
    "trolley_stops = pd.DataFrame(get_all_stops(trolleys))"
   ]
  },
  {
   "cell_type": "code",
   "execution_count": 0,
   "metadata": {
    "collapsed": false,
    "scrolled": true
   },
   "outputs": [
    {
     "data": {
      "text/html": [
       "<div>\n",
       "<table border=\"1\" class=\"dataframe\">\n",
       "  <thead>\n",
       "    <tr style=\"text-align: right;\">\n",
       "      <th></th>\n",
       "      <th>lat</th>\n",
       "      <th>lng</th>\n",
       "      <th>stopid</th>\n",
       "      <th>stopname</th>\n",
       "      <th>trolley</th>\n",
       "    </tr>\n",
       "  </thead>\n",
       "  <tbody>\n",
       "    <tr>\n",
       "      <th>0</th>\n",
       "      <td>39.973059</td>\n",
       "      <td>-75.218615</td>\n",
       "      <td>277</td>\n",
       "      <td>Lancaster Av &amp;amp; Girard Av</td>\n",
       "      <td>10</td>\n",
       "    </tr>\n",
       "    <tr>\n",
       "      <th>1</th>\n",
       "      <td>39.957929</td>\n",
       "      <td>-75.201901</td>\n",
       "      <td>279</td>\n",
       "      <td>40th St &amp;amp; Filbert St</td>\n",
       "      <td>10</td>\n",
       "    </tr>\n",
       "    <tr>\n",
       "      <th>2</th>\n",
       "      <td>39.952532</td>\n",
       "      <td>-75.162559</td>\n",
       "      <td>283</td>\n",
       "      <td>13th St Trolley Station</td>\n",
       "      <td>10</td>\n",
       "    </tr>\n",
       "    <tr>\n",
       "      <th>3</th>\n",
       "      <td>39.955451</td>\n",
       "      <td>-75.194233</td>\n",
       "      <td>287</td>\n",
       "      <td>36th St Trolley Portal Station</td>\n",
       "      <td>10</td>\n",
       "    </tr>\n",
       "    <tr>\n",
       "      <th>4</th>\n",
       "      <td>39.972244</td>\n",
       "      <td>-75.217035</td>\n",
       "      <td>290</td>\n",
       "      <td>Lancaster Av &amp;amp; 48th St</td>\n",
       "      <td>10</td>\n",
       "    </tr>\n",
       "  </tbody>\n",
       "</table>\n",
       "</div>"
      ],
      "text/plain": [
       "         lat        lng  stopid                        stopname  trolley\n",
       "0  39.973059 -75.218615     277    Lancaster Av &amp; Girard Av       10\n",
       "1  39.957929 -75.201901     279        40th St &amp; Filbert St       10\n",
       "2  39.952532 -75.162559     283         13th St Trolley Station       10\n",
       "3  39.955451 -75.194233     287  36th St Trolley Portal Station       10\n",
       "4  39.972244 -75.217035     290      Lancaster Av &amp; 48th St       10"
      ]
     },
     "execution_count": 8,
     "metadata": {},
     "output_type": "execute_result"
    }
   ],
   "source": [
    "trolley_stops.head()"
   ]
  },
  {
   "cell_type": "code",
   "execution_count": 0,
   "metadata": {
    "collapsed": false
   },
   "outputs": [
    {
     "data": {
      "text/plain": [
       "False"
      ]
     },
     "execution_count": 9,
     "metadata": {},
     "output_type": "execute_result"
    }
   ],
   "source": [
    "len(trolley_stops.stopid.unique()) == len(trolley_stops.stopid)"
   ]
  },
  {
   "cell_type": "code",
   "execution_count": 0,
   "metadata": {
    "collapsed": false,
    "scrolled": false
   },
   "outputs": [
    {
     "data": {
      "text/html": [
       "<div>\n",
       "<table border=\"1\" class=\"dataframe\">\n",
       "  <thead>\n",
       "    <tr style=\"text-align: right;\">\n",
       "      <th></th>\n",
       "      <th>lat</th>\n",
       "      <th>lng</th>\n",
       "      <th>stopid</th>\n",
       "      <th>stopname</th>\n",
       "      <th>trolley</th>\n",
       "    </tr>\n",
       "  </thead>\n",
       "  <tbody>\n",
       "    <tr>\n",
       "      <th>78</th>\n",
       "      <td>39.952532</td>\n",
       "      <td>-75.162559</td>\n",
       "      <td>283</td>\n",
       "      <td>13th St Trolley Station</td>\n",
       "      <td>11</td>\n",
       "    </tr>\n",
       "    <tr>\n",
       "      <th>392</th>\n",
       "      <td>39.952532</td>\n",
       "      <td>-75.162559</td>\n",
       "      <td>283</td>\n",
       "      <td>13th St Trolley Station</td>\n",
       "      <td>34</td>\n",
       "    </tr>\n",
       "    <tr>\n",
       "      <th>174</th>\n",
       "      <td>39.952532</td>\n",
       "      <td>-75.162559</td>\n",
       "      <td>283</td>\n",
       "      <td>13th St Trolley Station</td>\n",
       "      <td>13</td>\n",
       "    </tr>\n",
       "    <tr>\n",
       "      <th>513</th>\n",
       "      <td>39.952532</td>\n",
       "      <td>-75.162559</td>\n",
       "      <td>283</td>\n",
       "      <td>13th St Trolley Station</td>\n",
       "      <td>36</td>\n",
       "    </tr>\n",
       "    <tr>\n",
       "      <th>393</th>\n",
       "      <td>39.949595</td>\n",
       "      <td>-75.203333</td>\n",
       "      <td>301</td>\n",
       "      <td>40th St Trolley Portal</td>\n",
       "      <td>34</td>\n",
       "    </tr>\n",
       "    <tr>\n",
       "      <th>175</th>\n",
       "      <td>39.949595</td>\n",
       "      <td>-75.203333</td>\n",
       "      <td>301</td>\n",
       "      <td>40th St Trolley Portal</td>\n",
       "      <td>13</td>\n",
       "    </tr>\n",
       "    <tr>\n",
       "      <th>514</th>\n",
       "      <td>39.949595</td>\n",
       "      <td>-75.203333</td>\n",
       "      <td>301</td>\n",
       "      <td>40th St Trolley Portal</td>\n",
       "      <td>36</td>\n",
       "    </tr>\n",
       "    <tr>\n",
       "      <th>515</th>\n",
       "      <td>39.940955</td>\n",
       "      <td>-75.212582</td>\n",
       "      <td>302</td>\n",
       "      <td>Woodland Av &amp;amp; 49th St</td>\n",
       "      <td>36</td>\n",
       "    </tr>\n",
       "    <tr>\n",
       "      <th>394</th>\n",
       "      <td>39.928267</td>\n",
       "      <td>-75.230599</td>\n",
       "      <td>303</td>\n",
       "      <td>Woodland Av &amp;amp; 62nd St</td>\n",
       "      <td>34</td>\n",
       "    </tr>\n",
       "    <tr>\n",
       "      <th>395</th>\n",
       "      <td>39.917304</td>\n",
       "      <td>-75.246245</td>\n",
       "      <td>304</td>\n",
       "      <td>Woodland Av &amp;amp; Island Av</td>\n",
       "      <td>34</td>\n",
       "    </tr>\n",
       "    <tr>\n",
       "      <th>176</th>\n",
       "      <td>39.919040</td>\n",
       "      <td>-75.262317</td>\n",
       "      <td>305</td>\n",
       "      <td>Darby Transportation Center - troll</td>\n",
       "      <td>13</td>\n",
       "    </tr>\n",
       "    <tr>\n",
       "      <th>396</th>\n",
       "      <td>39.940064</td>\n",
       "      <td>-75.213848</td>\n",
       "      <td>317</td>\n",
       "      <td>Woodland Av &amp;amp; 50th St</td>\n",
       "      <td>34</td>\n",
       "    </tr>\n",
       "    <tr>\n",
       "      <th>516</th>\n",
       "      <td>39.914335</td>\n",
       "      <td>-75.241732</td>\n",
       "      <td>610</td>\n",
       "      <td>Elmwood Av &amp;amp; 73rd St</td>\n",
       "      <td>36</td>\n",
       "    </tr>\n",
       "    <tr>\n",
       "      <th>659</th>\n",
       "      <td>39.962052</td>\n",
       "      <td>-75.258296</td>\n",
       "      <td>1148</td>\n",
       "      <td>69th St Transportation Center South</td>\n",
       "      <td>102</td>\n",
       "    </tr>\n",
       "    <tr>\n",
       "      <th>663</th>\n",
       "      <td>39.946494</td>\n",
       "      <td>-75.292777</td>\n",
       "      <td>14861</td>\n",
       "      <td>Garrett Rd &amp;amp; Shadeland Av - FS</td>\n",
       "      <td>102</td>\n",
       "    </tr>\n",
       "    <tr>\n",
       "      <th>664</th>\n",
       "      <td>39.946414</td>\n",
       "      <td>-75.292588</td>\n",
       "      <td>14866</td>\n",
       "      <td>Garrett Rd &amp;amp; Shadeland Av</td>\n",
       "      <td>102</td>\n",
       "    </tr>\n",
       "    <tr>\n",
       "      <th>184</th>\n",
       "      <td>39.954773</td>\n",
       "      <td>-75.189700</td>\n",
       "      <td>20642</td>\n",
       "      <td>33rd St Trolley Station</td>\n",
       "      <td>13</td>\n",
       "    </tr>\n",
       "    <tr>\n",
       "      <th>519</th>\n",
       "      <td>39.954773</td>\n",
       "      <td>-75.189700</td>\n",
       "      <td>20642</td>\n",
       "      <td>33rd St Trolley Station</td>\n",
       "      <td>36</td>\n",
       "    </tr>\n",
       "    <tr>\n",
       "      <th>86</th>\n",
       "      <td>39.954773</td>\n",
       "      <td>-75.189700</td>\n",
       "      <td>20642</td>\n",
       "      <td>33rd St Trolley Station</td>\n",
       "      <td>11</td>\n",
       "    </tr>\n",
       "    <tr>\n",
       "      <th>401</th>\n",
       "      <td>39.954773</td>\n",
       "      <td>-75.189700</td>\n",
       "      <td>20642</td>\n",
       "      <td>33rd St Trolley Station</td>\n",
       "      <td>34</td>\n",
       "    </tr>\n",
       "    <tr>\n",
       "      <th>520</th>\n",
       "      <td>39.954815</td>\n",
       "      <td>-75.183500</td>\n",
       "      <td>20643</td>\n",
       "      <td>30th St Trolley Station</td>\n",
       "      <td>36</td>\n",
       "    </tr>\n",
       "    <tr>\n",
       "      <th>87</th>\n",
       "      <td>39.954815</td>\n",
       "      <td>-75.183500</td>\n",
       "      <td>20643</td>\n",
       "      <td>30th St Trolley Station</td>\n",
       "      <td>11</td>\n",
       "    </tr>\n",
       "    <tr>\n",
       "      <th>402</th>\n",
       "      <td>39.954815</td>\n",
       "      <td>-75.183500</td>\n",
       "      <td>20643</td>\n",
       "      <td>30th St Trolley Station</td>\n",
       "      <td>34</td>\n",
       "    </tr>\n",
       "    <tr>\n",
       "      <th>185</th>\n",
       "      <td>39.954815</td>\n",
       "      <td>-75.183500</td>\n",
       "      <td>20643</td>\n",
       "      <td>30th St Trolley Station</td>\n",
       "      <td>13</td>\n",
       "    </tr>\n",
       "    <tr>\n",
       "      <th>88</th>\n",
       "      <td>39.953962</td>\n",
       "      <td>-75.176736</td>\n",
       "      <td>20645</td>\n",
       "      <td>22nd St Trolley Station</td>\n",
       "      <td>11</td>\n",
       "    </tr>\n",
       "    <tr>\n",
       "      <th>186</th>\n",
       "      <td>39.953962</td>\n",
       "      <td>-75.176736</td>\n",
       "      <td>20645</td>\n",
       "      <td>22nd St Trolley Station</td>\n",
       "      <td>13</td>\n",
       "    </tr>\n",
       "    <tr>\n",
       "      <th>521</th>\n",
       "      <td>39.953962</td>\n",
       "      <td>-75.176736</td>\n",
       "      <td>20645</td>\n",
       "      <td>22nd St Trolley Station</td>\n",
       "      <td>36</td>\n",
       "    </tr>\n",
       "    <tr>\n",
       "      <th>403</th>\n",
       "      <td>39.953962</td>\n",
       "      <td>-75.176736</td>\n",
       "      <td>20645</td>\n",
       "      <td>22nd St Trolley Station</td>\n",
       "      <td>34</td>\n",
       "    </tr>\n",
       "    <tr>\n",
       "      <th>404</th>\n",
       "      <td>39.953327</td>\n",
       "      <td>-75.171637</td>\n",
       "      <td>20646</td>\n",
       "      <td>19th St Trolley Station</td>\n",
       "      <td>34</td>\n",
       "    </tr>\n",
       "    <tr>\n",
       "      <th>89</th>\n",
       "      <td>39.953327</td>\n",
       "      <td>-75.171637</td>\n",
       "      <td>20646</td>\n",
       "      <td>19th St Trolley Station</td>\n",
       "      <td>11</td>\n",
       "    </tr>\n",
       "    <tr>\n",
       "      <th>...</th>\n",
       "      <td>...</td>\n",
       "      <td>...</td>\n",
       "      <td>...</td>\n",
       "      <td>...</td>\n",
       "      <td>...</td>\n",
       "    </tr>\n",
       "    <tr>\n",
       "      <th>562</th>\n",
       "      <td>39.916249</td>\n",
       "      <td>-75.238965</td>\n",
       "      <td>20917</td>\n",
       "      <td>Elmwood Av &amp;amp; 71st St</td>\n",
       "      <td>36</td>\n",
       "    </tr>\n",
       "    <tr>\n",
       "      <th>563</th>\n",
       "      <td>39.915305</td>\n",
       "      <td>-75.240349</td>\n",
       "      <td>20918</td>\n",
       "      <td>Elmwood Av &amp;amp; 72nd St</td>\n",
       "      <td>36</td>\n",
       "    </tr>\n",
       "    <tr>\n",
       "      <th>264</th>\n",
       "      <td>39.948492</td>\n",
       "      <td>-75.204966</td>\n",
       "      <td>20925</td>\n",
       "      <td>Woodland Av &amp;amp; Chester Av</td>\n",
       "      <td>13</td>\n",
       "    </tr>\n",
       "    <tr>\n",
       "      <th>569</th>\n",
       "      <td>39.948492</td>\n",
       "      <td>-75.204966</td>\n",
       "      <td>20925</td>\n",
       "      <td>Woodland Av &amp;amp; Chester Av</td>\n",
       "      <td>36</td>\n",
       "    </tr>\n",
       "    <tr>\n",
       "      <th>599</th>\n",
       "      <td>39.940794</td>\n",
       "      <td>-75.212429</td>\n",
       "      <td>20957</td>\n",
       "      <td>49th St &amp;amp; Woodland Av</td>\n",
       "      <td>36</td>\n",
       "    </tr>\n",
       "    <tr>\n",
       "      <th>600</th>\n",
       "      <td>39.943245</td>\n",
       "      <td>-75.210839</td>\n",
       "      <td>20958</td>\n",
       "      <td>Woodland Av &amp;amp; 47th St</td>\n",
       "      <td>36</td>\n",
       "    </tr>\n",
       "    <tr>\n",
       "      <th>602</th>\n",
       "      <td>39.943451</td>\n",
       "      <td>-75.210838</td>\n",
       "      <td>21202</td>\n",
       "      <td>Woodland Av &amp;amp; 47th St</td>\n",
       "      <td>36</td>\n",
       "    </tr>\n",
       "    <tr>\n",
       "      <th>603</th>\n",
       "      <td>39.957259</td>\n",
       "      <td>-75.202021</td>\n",
       "      <td>21248</td>\n",
       "      <td>40th St &amp;amp; Market St</td>\n",
       "      <td>36</td>\n",
       "    </tr>\n",
       "    <tr>\n",
       "      <th>496</th>\n",
       "      <td>39.957259</td>\n",
       "      <td>-75.202021</td>\n",
       "      <td>21248</td>\n",
       "      <td>40th St &amp;amp; Market St</td>\n",
       "      <td>34</td>\n",
       "    </tr>\n",
       "    <tr>\n",
       "      <th>266</th>\n",
       "      <td>39.957259</td>\n",
       "      <td>-75.202021</td>\n",
       "      <td>21248</td>\n",
       "      <td>40th St &amp;amp; Market St</td>\n",
       "      <td>13</td>\n",
       "    </tr>\n",
       "    <tr>\n",
       "      <th>669</th>\n",
       "      <td>39.960078</td>\n",
       "      <td>-75.263733</td>\n",
       "      <td>30256</td>\n",
       "      <td>Garrett Rd &amp;amp; Chestnut St</td>\n",
       "      <td>102</td>\n",
       "    </tr>\n",
       "    <tr>\n",
       "      <th>670</th>\n",
       "      <td>39.949495</td>\n",
       "      <td>-75.286430</td>\n",
       "      <td>30257</td>\n",
       "      <td>Garrett Rd &amp;amp; Fairfax Rd</td>\n",
       "      <td>102</td>\n",
       "    </tr>\n",
       "    <tr>\n",
       "      <th>671</th>\n",
       "      <td>39.948444</td>\n",
       "      <td>-75.288652</td>\n",
       "      <td>30258</td>\n",
       "      <td>Garrett Rd &amp;amp; Irvington Rd</td>\n",
       "      <td>102</td>\n",
       "    </tr>\n",
       "    <tr>\n",
       "      <th>672</th>\n",
       "      <td>39.948257</td>\n",
       "      <td>-75.288723</td>\n",
       "      <td>30262</td>\n",
       "      <td>Garrett Rd &amp;amp; Irvington Rd</td>\n",
       "      <td>102</td>\n",
       "    </tr>\n",
       "    <tr>\n",
       "      <th>673</th>\n",
       "      <td>39.949307</td>\n",
       "      <td>-75.286490</td>\n",
       "      <td>30263</td>\n",
       "      <td>Garrett Rd &amp;amp; Fairfax Rd</td>\n",
       "      <td>102</td>\n",
       "    </tr>\n",
       "    <tr>\n",
       "      <th>674</th>\n",
       "      <td>39.952824</td>\n",
       "      <td>-75.279066</td>\n",
       "      <td>30264</td>\n",
       "      <td>Garrett Rd &amp;amp; Congress Av</td>\n",
       "      <td>102</td>\n",
       "    </tr>\n",
       "    <tr>\n",
       "      <th>675</th>\n",
       "      <td>39.955254</td>\n",
       "      <td>-75.273759</td>\n",
       "      <td>30265</td>\n",
       "      <td>Garrett Rd &amp;amp; Beverly Blvd</td>\n",
       "      <td>102</td>\n",
       "    </tr>\n",
       "    <tr>\n",
       "      <th>676</th>\n",
       "      <td>39.957443</td>\n",
       "      <td>-75.269006</td>\n",
       "      <td>30267</td>\n",
       "      <td>Garrett Rd &amp;amp; Avon Rd</td>\n",
       "      <td>102</td>\n",
       "    </tr>\n",
       "    <tr>\n",
       "      <th>677</th>\n",
       "      <td>39.958681</td>\n",
       "      <td>-75.266465</td>\n",
       "      <td>30268</td>\n",
       "      <td>Garrett Rd &amp;amp; Walnut St</td>\n",
       "      <td>102</td>\n",
       "    </tr>\n",
       "    <tr>\n",
       "      <th>678</th>\n",
       "      <td>39.959944</td>\n",
       "      <td>-75.263722</td>\n",
       "      <td>30269</td>\n",
       "      <td>Garrett Rd &amp;amp; Chestnut St</td>\n",
       "      <td>102</td>\n",
       "    </tr>\n",
       "    <tr>\n",
       "      <th>679</th>\n",
       "      <td>39.951400</td>\n",
       "      <td>-75.282140</td>\n",
       "      <td>30386</td>\n",
       "      <td>Garrett Rd &amp;amp; Lansdowne Av</td>\n",
       "      <td>102</td>\n",
       "    </tr>\n",
       "    <tr>\n",
       "      <th>605</th>\n",
       "      <td>39.937188</td>\n",
       "      <td>-75.212227</td>\n",
       "      <td>30595</td>\n",
       "      <td>Grays Av &amp;amp; 51st St</td>\n",
       "      <td>36</td>\n",
       "    </tr>\n",
       "    <tr>\n",
       "      <th>512</th>\n",
       "      <td>39.952502</td>\n",
       "      <td>-75.165369</td>\n",
       "      <td>31140</td>\n",
       "      <td>15th St Trolley Station</td>\n",
       "      <td>34</td>\n",
       "    </tr>\n",
       "    <tr>\n",
       "      <th>269</th>\n",
       "      <td>39.952502</td>\n",
       "      <td>-75.165369</td>\n",
       "      <td>31140</td>\n",
       "      <td>15th St Trolley Station</td>\n",
       "      <td>13</td>\n",
       "    </tr>\n",
       "    <tr>\n",
       "      <th>173</th>\n",
       "      <td>39.952502</td>\n",
       "      <td>-75.165369</td>\n",
       "      <td>31140</td>\n",
       "      <td>15th St Trolley Station</td>\n",
       "      <td>11</td>\n",
       "    </tr>\n",
       "    <tr>\n",
       "      <th>606</th>\n",
       "      <td>39.952502</td>\n",
       "      <td>-75.165369</td>\n",
       "      <td>31140</td>\n",
       "      <td>15th St Trolley Station</td>\n",
       "      <td>36</td>\n",
       "    </tr>\n",
       "    <tr>\n",
       "      <th>681</th>\n",
       "      <td>39.958859</td>\n",
       "      <td>-75.266346</td>\n",
       "      <td>32224</td>\n",
       "      <td>Garrett Rd &amp;amp; Walnut St</td>\n",
       "      <td>102</td>\n",
       "    </tr>\n",
       "    <tr>\n",
       "      <th>682</th>\n",
       "      <td>39.957631</td>\n",
       "      <td>-75.268935</td>\n",
       "      <td>32225</td>\n",
       "      <td>Garrett Rd &amp;amp; Avon St</td>\n",
       "      <td>102</td>\n",
       "    </tr>\n",
       "    <tr>\n",
       "      <th>683</th>\n",
       "      <td>39.955459</td>\n",
       "      <td>-75.273794</td>\n",
       "      <td>32226</td>\n",
       "      <td>Garrett Rd &amp;amp; Beverly Blvd</td>\n",
       "      <td>102</td>\n",
       "    </tr>\n",
       "    <tr>\n",
       "      <th>684</th>\n",
       "      <td>39.952976</td>\n",
       "      <td>-75.279031</td>\n",
       "      <td>32227</td>\n",
       "      <td>Garrett Rd &amp;amp; Congress Av</td>\n",
       "      <td>102</td>\n",
       "    </tr>\n",
       "  </tbody>\n",
       "</table>\n",
       "<p>148 rows × 5 columns</p>\n",
       "</div>"
      ],
      "text/plain": [
       "           lat        lng  stopid                             stopname  \\\n",
       "78   39.952532 -75.162559     283              13th St Trolley Station   \n",
       "392  39.952532 -75.162559     283              13th St Trolley Station   \n",
       "174  39.952532 -75.162559     283              13th St Trolley Station   \n",
       "513  39.952532 -75.162559     283              13th St Trolley Station   \n",
       "393  39.949595 -75.203333     301               40th St Trolley Portal   \n",
       "175  39.949595 -75.203333     301               40th St Trolley Portal   \n",
       "514  39.949595 -75.203333     301               40th St Trolley Portal   \n",
       "515  39.940955 -75.212582     302            Woodland Av &amp; 49th St   \n",
       "394  39.928267 -75.230599     303            Woodland Av &amp; 62nd St   \n",
       "395  39.917304 -75.246245     304          Woodland Av &amp; Island Av   \n",
       "176  39.919040 -75.262317     305  Darby Transportation Center - troll   \n",
       "396  39.940064 -75.213848     317            Woodland Av &amp; 50th St   \n",
       "516  39.914335 -75.241732     610             Elmwood Av &amp; 73rd St   \n",
       "659  39.962052 -75.258296    1148  69th St Transportation Center South   \n",
       "663  39.946494 -75.292777   14861   Garrett Rd &amp; Shadeland Av - FS   \n",
       "664  39.946414 -75.292588   14866        Garrett Rd &amp; Shadeland Av   \n",
       "184  39.954773 -75.189700   20642              33rd St Trolley Station   \n",
       "519  39.954773 -75.189700   20642              33rd St Trolley Station   \n",
       "86   39.954773 -75.189700   20642              33rd St Trolley Station   \n",
       "401  39.954773 -75.189700   20642              33rd St Trolley Station   \n",
       "520  39.954815 -75.183500   20643              30th St Trolley Station   \n",
       "87   39.954815 -75.183500   20643              30th St Trolley Station   \n",
       "402  39.954815 -75.183500   20643              30th St Trolley Station   \n",
       "185  39.954815 -75.183500   20643              30th St Trolley Station   \n",
       "88   39.953962 -75.176736   20645              22nd St Trolley Station   \n",
       "186  39.953962 -75.176736   20645              22nd St Trolley Station   \n",
       "521  39.953962 -75.176736   20645              22nd St Trolley Station   \n",
       "403  39.953962 -75.176736   20645              22nd St Trolley Station   \n",
       "404  39.953327 -75.171637   20646              19th St Trolley Station   \n",
       "89   39.953327 -75.171637   20646              19th St Trolley Station   \n",
       "..         ...        ...     ...                                  ...   \n",
       "562  39.916249 -75.238965   20917             Elmwood Av &amp; 71st St   \n",
       "563  39.915305 -75.240349   20918             Elmwood Av &amp; 72nd St   \n",
       "264  39.948492 -75.204966   20925         Woodland Av &amp; Chester Av   \n",
       "569  39.948492 -75.204966   20925         Woodland Av &amp; Chester Av   \n",
       "599  39.940794 -75.212429   20957            49th St &amp; Woodland Av   \n",
       "600  39.943245 -75.210839   20958            Woodland Av &amp; 47th St   \n",
       "602  39.943451 -75.210838   21202            Woodland Av &amp; 47th St   \n",
       "603  39.957259 -75.202021   21248              40th St &amp; Market St   \n",
       "496  39.957259 -75.202021   21248              40th St &amp; Market St   \n",
       "266  39.957259 -75.202021   21248              40th St &amp; Market St   \n",
       "669  39.960078 -75.263733   30256         Garrett Rd &amp; Chestnut St   \n",
       "670  39.949495 -75.286430   30257          Garrett Rd &amp; Fairfax Rd   \n",
       "671  39.948444 -75.288652   30258        Garrett Rd &amp; Irvington Rd   \n",
       "672  39.948257 -75.288723   30262        Garrett Rd &amp; Irvington Rd   \n",
       "673  39.949307 -75.286490   30263          Garrett Rd &amp; Fairfax Rd   \n",
       "674  39.952824 -75.279066   30264         Garrett Rd &amp; Congress Av   \n",
       "675  39.955254 -75.273759   30265        Garrett Rd &amp; Beverly Blvd   \n",
       "676  39.957443 -75.269006   30267             Garrett Rd &amp; Avon Rd   \n",
       "677  39.958681 -75.266465   30268           Garrett Rd &amp; Walnut St   \n",
       "678  39.959944 -75.263722   30269         Garrett Rd &amp; Chestnut St   \n",
       "679  39.951400 -75.282140   30386        Garrett Rd &amp; Lansdowne Av   \n",
       "605  39.937188 -75.212227   30595               Grays Av &amp; 51st St   \n",
       "512  39.952502 -75.165369   31140              15th St Trolley Station   \n",
       "269  39.952502 -75.165369   31140              15th St Trolley Station   \n",
       "173  39.952502 -75.165369   31140              15th St Trolley Station   \n",
       "606  39.952502 -75.165369   31140              15th St Trolley Station   \n",
       "681  39.958859 -75.266346   32224           Garrett Rd &amp; Walnut St   \n",
       "682  39.957631 -75.268935   32225             Garrett Rd &amp; Avon St   \n",
       "683  39.955459 -75.273794   32226        Garrett Rd &amp; Beverly Blvd   \n",
       "684  39.952976 -75.279031   32227         Garrett Rd &amp; Congress Av   \n",
       "\n",
       "     trolley  \n",
       "78        11  \n",
       "392       34  \n",
       "174       13  \n",
       "513       36  \n",
       "393       34  \n",
       "175       13  \n",
       "514       36  \n",
       "515       36  \n",
       "394       34  \n",
       "395       34  \n",
       "176       13  \n",
       "396       34  \n",
       "516       36  \n",
       "659      102  \n",
       "663      102  \n",
       "664      102  \n",
       "184       13  \n",
       "519       36  \n",
       "86        11  \n",
       "401       34  \n",
       "520       36  \n",
       "87        11  \n",
       "402       34  \n",
       "185       13  \n",
       "88        11  \n",
       "186       13  \n",
       "521       36  \n",
       "403       34  \n",
       "404       34  \n",
       "89        11  \n",
       "..       ...  \n",
       "562       36  \n",
       "563       36  \n",
       "264       13  \n",
       "569       36  \n",
       "599       36  \n",
       "600       36  \n",
       "602       36  \n",
       "603       36  \n",
       "496       34  \n",
       "266       13  \n",
       "669      102  \n",
       "670      102  \n",
       "671      102  \n",
       "672      102  \n",
       "673      102  \n",
       "674      102  \n",
       "675      102  \n",
       "676      102  \n",
       "677      102  \n",
       "678      102  \n",
       "679      102  \n",
       "605       36  \n",
       "512       34  \n",
       "269       13  \n",
       "173       11  \n",
       "606       36  \n",
       "681      102  \n",
       "682      102  \n",
       "683      102  \n",
       "684      102  \n",
       "\n",
       "[148 rows x 5 columns]"
      ]
     },
     "execution_count": 10,
     "metadata": {},
     "output_type": "execute_result"
    }
   ],
   "source": [
    "trolley_stops[trolley_stops.stopid.duplicated()].sort('stopid')"
   ]
  },
  {
   "cell_type": "code",
   "execution_count": 0,
   "metadata": {
    "collapsed": false
   },
   "outputs": [],
   "source": [
    "trolley_stops.to_excel('../data/trolley_stops.xls',index=False)"
   ]
  },
  {
   "cell_type": "code",
   "execution_count": 0,
   "metadata": {
    "collapsed": false,
    "scrolled": true
   },
   "outputs": [
    {
     "data": {
      "text/plain": [
       "<matplotlib.axes._subplots.AxesSubplot at 0x7fd7ccc6b7b8>"
      ]
     },
     "execution_count": 12,
     "metadata": {},
     "output_type": "execute_result"
    },
    {
     "data": {
      "image/png": "[encoded data removed]",
      "text/plain": [
       "<matplotlib.figure.Figure at 0x7fd7b3332be0>"
      ]
     },
     "metadata": {},
     "output_type": "display_data"
    }
   ],
   "source": [
    "trolley_stops.plot(x='lng',y='lat',kind='scatter',figsize=(20,10))"
   ]
  },
  {
   "cell_type": "code",
   "execution_count": 0,
   "metadata": {
    "collapsed": false
   },
   "outputs": [
    {
     "data": {
      "text/plain": [
       "<bound method DataFrame.plot_frame of            lat        lng\n",
       "0    39.973059 -75.218615\n",
       "1    39.957929 -75.201901\n",
       "2    39.952532 -75.162559\n",
       "3    39.955451 -75.194233\n",
       "4    39.972244 -75.217035\n",
       "5    39.975860 -75.240307\n",
       "6    39.983697 -75.247009\n",
       "7    39.980912 -75.246661\n",
       "8    39.978350 -75.246184\n",
       "9    39.975332 -75.244986\n",
       "10   39.975499 -75.243651\n",
       "11   39.975693 -75.241879\n",
       "12   39.976054 -75.238653\n",
       "13   39.976248 -75.236904\n",
       "14   39.976406 -75.235403\n",
       "15   39.976591 -75.233761\n",
       "16   39.976811 -75.231858\n",
       "17   39.977013 -75.229908\n",
       "18   39.977295 -75.227380\n",
       "19   39.976855 -75.226176\n",
       "20   39.975207 -75.222590\n",
       "21   39.973748 -75.219747\n",
       "22   39.971555 -75.216115\n",
       "23   39.970973 -75.215160\n",
       "24   39.969667 -75.212991\n",
       "25   39.968772 -75.211541\n",
       "26   39.967725 -75.209878\n",
       "27   39.966391 -75.207662\n",
       "28   39.965093 -75.205564\n",
       "29   39.963151 -75.202440\n",
       "..         ...        ...\n",
       "670  39.949495 -75.286430\n",
       "671  39.948444 -75.288652\n",
       "672  39.948257 -75.288723\n",
       "673  39.949307 -75.286490\n",
       "674  39.952824 -75.279066\n",
       "675  39.955254 -75.273759\n",
       "676  39.957443 -75.269006\n",
       "677  39.958681 -75.266465\n",
       "678  39.959944 -75.263722\n",
       "679  39.951400 -75.282140\n",
       "680  39.910246 -75.280489\n",
       "681  39.958859 -75.266346\n",
       "682  39.957631 -75.268935\n",
       "683  39.955459 -75.273794\n",
       "684  39.952976 -75.279031\n",
       "685  39.943285 -75.296408\n",
       "686  39.935176 -75.291264\n",
       "687  39.922355 -75.287110\n",
       "688  39.920220 -75.285438\n",
       "689  39.918380 -75.283884\n",
       "690  39.915816 -75.281410\n",
       "691  39.913028 -75.278796\n",
       "692  39.911724 -75.277677\n",
       "693  39.912974 -75.278548\n",
       "694  39.915762 -75.281151\n",
       "695  39.920149 -75.285202\n",
       "696  39.922301 -75.286886\n",
       "697  39.935077 -75.291040\n",
       "698  39.941194 -75.293744\n",
       "699  39.943776 -75.296620\n",
       "\n",
       "[700 rows x 2 columns]>"
      ]
     },
     "execution_count": 13,
     "metadata": {},
     "output_type": "execute_result"
    }
   ],
   "source": [
    "trolley_stops[['lat','lng']].plot"
   ]
  },
  {
   "cell_type": "code",
   "execution_count": 0,
   "metadata": {
    "collapsed": true
   },
   "outputs": [],
   "source": [
    "import csv"
   ]
  },
  {
   "cell_type": "code",
   "execution_count": 0,
   "metadata": {
    "collapsed": true
   },
   "outputs": [],
   "source": [
    "dw = csv.DictWriter"
   ]
  },
  {
   "cell_type": "code",
   "execution_count": 0,
   "metadata": {
    "collapsed": false
   },
   "outputs": [
    {
     "data": {
      "text/plain": [
       "Index(['lat', 'lng', 'stopid', 'stopname', 'trolley'], dtype='object')"
      ]
     },
     "execution_count": 17,
     "metadata": {},
     "output_type": "execute_result"
    }
   ],
   "source": [
    "trolley_stops.columns"
   ]
  },
  {
   "cell_type": "markdown",
   "metadata": {},
   "source": [
    "# to csv"
   ]
  },
  {
   "cell_type": "code",
   "execution_count": 0,
   "metadata": {
    "collapsed": false
   },
   "outputs": [],
   "source": [
    "dw = csv.DictWriter(open('../data/trolley_stops.csv','w'), fieldnames=['lat', 'lng', 'stopid', 'stopname', 'trolley'])"
   ]
  },
  {
   "cell_type": "code",
   "execution_count": 0,
   "metadata": {
    "collapsed": true
   },
   "outputs": [],
   "source": [
    "dw.writeheader()\n",
    "dw.writerows([s for s in get_all_stops(trolleys)])"
   ]
  },
  {
   "cell_type": "code",
   "execution_count": 0,
   "metadata": {
    "collapsed": false
   },
   "outputs": [
    {
     "name": "stdout",
     "output_type": "stream",
     "text": [
      "lat,lng,stopid,stopname,trolley\r",
      "\r\n",
      "39.973059,-75.218615,277,Lancaster Av &amp; Girard Av,10\r",
      "\r\n",
      "39.957929,-75.201901,279,40th St &amp; Filbert St,10\r",
      "\r\n",
      "39.952532,-75.162559,283,13th St Trolley Station,10\r",
      "\r\n",
      "39.955451,-75.194233,287,36th St Trolley Portal Station,10\r",
      "\r\n",
      "39.972244,-75.217035,290,Lancaster Av &amp; 48th St,10\r",
      "\r\n",
      "39.97586,-75.240307,15271,Lansdowne Av &amp; 60th St,10\r",
      "\r\n",
      "39.983697,-75.247009,20610,Malvern Av &amp; 63rd St,10\r",
      "\r\n",
      "39.980912,-75.246661,20611,63rd St &amp; Lebanon Av,10\r",
      "\r\n",
      "39.97835,-75.246184,20612,63rd St &amp; Jefferson St,10\r",
      "\r\n"
     ]
    }
   ],
   "source": [
    "!head '../data/trolley_stops.csv'"
   ]
  },
  {
   "cell_type": "markdown",
   "metadata": {},
   "source": [
    "# to geojson"
   ]
  },
  {
   "cell_type": "code",
   "execution_count": 0,
   "metadata": {
    "collapsed": false,
    "scrolled": true
   },
   "outputs": [],
   "source": [
    "gjson = { \"type\": \"FeatureCollection\",\n",
    "    \"features\": []}\n",
    "\n",
    "for n, group in trolley_stops.groupby('stopid'):\n",
    "    gj = {\"type\": \"Feature\",\n",
    "          \"geometry\": {\n",
    "            \"type\": \"Point\",\n",
    "            \"coordinates\": [group.iloc[0]['lng'], group.iloc[0]['lat']]\n",
    "          },\n",
    "          \"properties\": {\n",
    "            \"name\": group.iloc[0]['stopname'],\n",
    "            \"trolleys\": ', '.join(list(set([str(n) for n in group['trolley']])))\n",
    "          }}\n",
    "    gjson['features'].append(gj)"
   ]
  },
  {
   "cell_type": "code",
   "execution_count": 0,
   "metadata": {
    "collapsed": false
   },
   "outputs": [
    {
     "name": "stdout",
     "output_type": "stream",
     "text": [
      "{\n",
      "  \"properties\": {\n",
      "    \"name\": \"Lancaster Av &amp; Girard Av\",\n",
      "    \"trolleys\": \"10\"\n",
      "  },\n",
      "  \"geometry\": {\n",
      "    \"coordinates\": [\n",
      "      -75.218615,\n",
      "      39.973059\n",
      "    ],\n",
      "    \"type\": \"Point\"\n",
      "  },\n",
      "  \"type\": \"Feature\"\n",
      "}\n"
     ]
    }
   ],
   "source": [
    "print(json.dumps(gjson['features'][0], indent=2))"
   ]
  },
  {
   "cell_type": "code",
   "execution_count": 0,
   "metadata": {
    "collapsed": true
   },
   "outputs": [],
   "source": [
    "with open('../data/trolley_stops.geojson','w') as fout:\n",
    "    json.dump(gjson,fout, indent=2)"
   ]
  },
  {
   "cell_type": "code",
   "execution_count": 0,
   "metadata": {
    "collapsed": false
   },
   "outputs": [
    {
     "name": "stdout",
     "output_type": "stream",
     "text": [
      "{\r\n",
      "  \"features\": [\r\n",
      "    {\r\n",
      "      \"properties\": {\r\n",
      "        \"name\": \"Lancaster Av &amp; Girard Av\",\r\n",
      "        \"trolleys\": \"10\"\r\n",
      "      },\r\n",
      "      \"geometry\": {\r\n",
      "        \"coordinates\": [\r\n",
      "          -75.218615,\r\n",
      "          39.973059\r\n",
      "        ],\r\n",
      "        \"type\": \"Point\"\r\n",
      "      },\r\n",
      "      \"type\": \"Feature\"\r\n"
     ]
    }
   ],
   "source": [
    "!head -n15 ../data/trolley_stops.geojson"
   ]
  },
  {
   "cell_type": "code",
   "execution_count": 0,
   "metadata": {
    "collapsed": true
   },
   "outputs": [],
   "source": []
  }
 ],
 "metadata": {
  "kernelspec": {
   "display_name": "Python 3",
   "language": "python",
   "name": "python3"
  },
  "language_info": {
   "codemirror_mode": {
    "name": "ipython",
    "version": 3
   },
   "file_extension": ".py",
   "mimetype": "text/x-python",
   "name": "python",
   "nbconvert_exporter": "python",
   "pygments_lexer": "ipython3",
   "version": "3.4.2"
  }
 },
 "nbformat": 4,
 "nbformat_minor": 0
}
